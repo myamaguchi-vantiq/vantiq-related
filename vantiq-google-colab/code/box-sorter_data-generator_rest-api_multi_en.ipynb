{
  "cells": [
    {
      "attachments": {},
      "cell_type": "markdown",
      "metadata": {
        "colab_type": "text",
        "id": "view-in-github"
      },
      "source": [
        "<a href=\"https://colab.research.google.com/github/fujitake/vantiq-related/blob/main/vantiq-google-colab/code/box-sorter_data-generator_rest-api_multi.ipynb\" target=\"_parent\"><img src=\"./colab-badge.svg\" alt=\"Open In Colab\"/></a>"
      ]
    },
    {
      "attachments": {},
      "cell_type": "markdown",
      "metadata": {
        "id": "okmzYlHmq-9B"
      },
      "source": [
        "# Data Generator for Box Sorter (REST API - for multiple transmissions)\n",
        "This is a Python script that sends dummy data to the Vantiq Box Sorter application via HTTP POST.  \n",
        "It can broadcast data to multiple Vantiq environments simultaneously.  \n",
        "\n",
        "## How to Set Up\n",
        "A few settings are required before you can use this script.  \n",
        "You will also need to be logged into a Google account beforehand.  \n",
        "\n",
        "### 設定情報の設定方法\n",
        "- In the configuration section, set the Vantiq `url` and `AccessToken` for the data destination.\n",
        "    - For the `url`, be sure to include the `Vantiq Topic name` or `Inbound Event Type name` that you created in Vantiq.\n",
        "    - The `AccessToken` can be generated from the **Vantiq IDE menu** by navigating to `Administer` -> `Advanced` -> `Access Tokens`.\n",
        "\n",
        "## How to Run the Data Generator\n",
        "1. To apply your settings, click the `Play button` to the left of the `# Configuration section`.  \n",
        "1. To start sending the dummy data, click the `Play button` to the left of the `# Data Generator`.\n"
      ]
    },
    {
      "cell_type": "code",
      "execution_count": null,
      "metadata": {
        "id": "4VR-Yr6Uq9k7"
      },
      "outputs": [],
      "source": [
        "# Configuration section\n",
        "url = \"https://dev.vantiq.com/api/v1/resources/services/com.example.BoxSorter/ReceiveBoxInfo\"\n",
        "endpoints = [\n",
        "    {'url': url, 'token': ''}\n",
        "    , {'url': url, 'token': ''}\n",
        "]"
      ]
    },
    {
      "cell_type": "code",
      "execution_count": null,
      "metadata": {
        "id": "_Hl2OLPUrUe7"
      },
      "outputs": [],
      "source": [
        "# Data generator\n",
        "import requests\n",
        "import json\n",
        "import random\n",
        "import time\n",
        "from typing import Final\n",
        "\n",
        "\n",
        "# Dummy data\n",
        "dummy_data = [\n",
        "    {\n",
        "        \"code\": \"14961234567890\",\n",
        "        \"name\": \"Green Tea, 24 bottles\"\n",
        "    }, {\n",
        "        \"code\": \"14961234567892\",\n",
        "        \"name\": \"Skincare Lotion, 36 bottles\"\n",
        "    }, {\n",
        "        \"code\": \"14961234567893\",\n",
        "        \"name\": \"Wine, 12 bottles\"\n",
        "    }\n",
        "]\n",
        "\n",
        "# HTTP POST\n",
        "def data_post():\n",
        "    for endpoint in endpoints:\n",
        "        headers = {\n",
        "        'Content-Type': 'application/json',\n",
        "        'Authorization': 'Bearer ' + endpoint['token']\n",
        "        }\n",
        "        payload = json.dumps(dummy_data[random.randint(0, 2)])\n",
        "        response = requests.request(\"POST\", endpoint['url'], headers=headers, data=payload)\n",
        "        print(response.text)\n",
        "        time.sleep(0.1)\n",
        "\n",
        "# Periodic execution\n",
        "while True:\n",
        "    data_post()\n",
        "    time.sleep(1)\n"
      ]
    }
  ],
  "metadata": {
    "colab": {
      "include_colab_link": true,
      "provenance": []
    },
    "kernelspec": {
      "display_name": "Python 3",
      "name": "python3"
    },
    "language_info": {
      "name": "python"
    }
  },
  "nbformat": 4,
  "nbformat_minor": 0
}
